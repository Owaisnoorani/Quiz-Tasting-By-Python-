{
 "cells": [
  {
   "cell_type": "code",
   "execution_count": 1,
   "metadata": {},
   "outputs": [],
   "source": [
    "# Simple Quiz in Google Colab\n",
    "\n",
    "# Function to ask questions and get responses\n",
    "def ask_question(question):\n",
    "    response = input(question + \" \")\n",
    "    return response\n",
    "\n",
    "# List of questions\n",
    "questions = [\n",
    "    \"What is your Name?\",\n",
    "    \"What was the reason for joining the PIAIC course?\",\n",
    "    \"How is the experience with the faculty, and are you understanding everything?\"\n",
    "]\n",
    "\n",
    "# Dictionary to store responses\n",
    "responses = {}\n",
    "\n",
    "# Loop through each question\n",
    "for question in questions:\n",
    "    responses[question] = ask_question(question)\n",
    "\n",
    "# Print the responses\n",
    "print(\"\\nYour responses:\")\n",
    "for question, response in responses.items():\n",
    "    print(f\"{question}: {response}\")\n"
   ]
  }
 ],
 "metadata": {
  "kernelspec": {
   "display_name": "Python 3",
   "language": "python",
   "name": "python3"
  },
  "language_info": {
   "codemirror_mode": {
    "name": "ipython",
    "version": 3
   },
   "file_extension": ".py",
   "mimetype": "text/x-python",
   "name": "python",
   "nbconvert_exporter": "python",
   "pygments_lexer": "ipython3",
   "version": "3.12.4"
  }
 },
 "nbformat": 4,
 "nbformat_minor": 2
}
